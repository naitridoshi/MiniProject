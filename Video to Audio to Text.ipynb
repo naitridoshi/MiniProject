{
 "cells": [
  {
   "cell_type": "code",
   "execution_count": 1,
   "id": "d43a29f3",
   "metadata": {},
   "outputs": [],
   "source": [
    "import numpy as np\n",
    "import pandas as pd\n",
    "import tensorflow as tf\n",
    "import os\n",
    "from moviepy.editor import VideoFileClip\n",
    "import speech_recognition as sr\n",
    "from pydub import AudioSegment\n",
    "import csv"
   ]
  },
  {
   "cell_type": "code",
   "execution_count": 2,
   "id": "d97c8d0e",
   "metadata": {},
   "outputs": [],
   "source": [
    "videos_folder= \"NPTEL Videos\\\\\"\n",
    "audios_folder=\"NPTEL Audios\\\\\"\n",
    "os.makedirs(audios_folder, exist_ok=True)"
   ]
  },
  {
   "cell_type": "code",
   "execution_count": 3,
   "id": "d5f862ae",
   "metadata": {},
   "outputs": [],
   "source": [
    "def video_to_audio(video_path, audio_path):\n",
    "    try:\n",
    "        video_clip = VideoFileClip(video_path)\n",
    "        audio_clip = video_clip.audio\n",
    "        audio_clip.write_audiofile(audio_path)\n",
    "        audio_clip.close()\n",
    "        video_clip.close()\n",
    "        print(f\"Conversion successful: {audio_path}\")\n",
    "    except Exception as e:\n",
    "        print(f\"Conversion failed: {e}\")"
   ]
  },
  {
   "cell_type": "code",
   "execution_count": 11,
   "id": "8c1c7a89",
   "metadata": {},
   "outputs": [
    {
     "name": "stdout",
     "output_type": "stream",
     "text": [
      "MoviePy - Writing audio in D:\\NPTEL Audios\\2-D Array Operation.mp3\n"
     ]
    },
    {
     "name": "stderr",
     "output_type": "stream",
     "text": [
      "                                                                                                                       \r"
     ]
    },
    {
     "name": "stdout",
     "output_type": "stream",
     "text": [
      "MoviePy - Done.\n",
      "Conversion successful: D:\\NPTEL Audios\\2-D Array Operation.mp3\n",
      "MoviePy - Writing audio in D:\\NPTEL Audios\\abstract datatypes, classes and objects.mp3\n"
     ]
    },
    {
     "name": "stderr",
     "output_type": "stream",
     "text": [
      "                                                                                                                       \r"
     ]
    },
    {
     "name": "stdout",
     "output_type": "stream",
     "text": [
      "MoviePy - Done.\n",
      "Conversion successful: D:\\NPTEL Audios\\abstract datatypes, classes and objects.mp3\n",
      "MoviePy - Writing audio in D:\\NPTEL Audios\\Address and Content of Variables and Types.mp3\n"
     ]
    },
    {
     "name": "stderr",
     "output_type": "stream",
     "text": [
      "                                                                                                                       \r"
     ]
    },
    {
     "name": "stdout",
     "output_type": "stream",
     "text": [
      "MoviePy - Done.\n",
      "Conversion successful: D:\\NPTEL Audios\\Address and Content of Variables and Types.mp3\n",
      "MoviePy - Writing audio in D:\\NPTEL Audios\\algorithms and programming_ simple gcd.mp3\n"
     ]
    },
    {
     "name": "stderr",
     "output_type": "stream",
     "text": [
      "                                                                                                                       \r"
     ]
    },
    {
     "name": "stdout",
     "output_type": "stream",
     "text": [
      "MoviePy - Done.\n",
      "Conversion successful: D:\\NPTEL Audios\\algorithms and programming_ simple gcd.mp3\n",
      "MoviePy - Writing audio in D:\\NPTEL Audios\\Arithmetic Expressions and Relational Expressions.mp3\n"
     ]
    },
    {
     "name": "stderr",
     "output_type": "stream",
     "text": [
      "                                                                                                                       \r"
     ]
    },
    {
     "name": "stdout",
     "output_type": "stream",
     "text": [
      "MoviePy - Done.\n",
      "Conversion successful: D:\\NPTEL Audios\\Arithmetic Expressions and Relational Expressions.mp3\n",
      "MoviePy - Writing audio in D:\\NPTEL Audios\\Array Problem.mp3\n"
     ]
    },
    {
     "name": "stderr",
     "output_type": "stream",
     "text": [
      "                                                                                                                       \r"
     ]
    },
    {
     "name": "stdout",
     "output_type": "stream",
     "text": [
      "MoviePy - Done.\n",
      "Conversion successful: D:\\NPTEL Audios\\Array Problem.mp3\n",
      "MoviePy - Writing audio in D:\\NPTEL Audios\\Arrays (Contd.).mp3\n"
     ]
    },
    {
     "name": "stderr",
     "output_type": "stream",
     "text": [
      "                                                                                                                       \r"
     ]
    },
    {
     "name": "stdout",
     "output_type": "stream",
     "text": [
      "MoviePy - Done.\n",
      "Conversion successful: D:\\NPTEL Audios\\Arrays (Contd.).mp3\n",
      "MoviePy - Writing audio in D:\\NPTEL Audios\\Arrays (Contd1.).mp3\n"
     ]
    },
    {
     "name": "stderr",
     "output_type": "stream",
     "text": [
      "                                                                                                                       \r"
     ]
    },
    {
     "name": "stdout",
     "output_type": "stream",
     "text": [
      "MoviePy - Done.\n",
      "Conversion successful: D:\\NPTEL Audios\\Arrays (Contd1.).mp3\n",
      "MoviePy - Writing audio in D:\\NPTEL Audios\\Arrays at Strings.mp3\n"
     ]
    },
    {
     "name": "stderr",
     "output_type": "stream",
     "text": [
      "                                                                                                                       \r"
     ]
    },
    {
     "name": "stdout",
     "output_type": "stream",
     "text": [
      "MoviePy - Done.\n",
      "Conversion successful: D:\\NPTEL Audios\\Arrays at Strings.mp3\n",
      "MoviePy - Writing audio in D:\\NPTEL Audios\\arrays vs lists, binary search.mp3\n"
     ]
    },
    {
     "name": "stderr",
     "output_type": "stream",
     "text": [
      "                                                                                                                       \r"
     ]
    },
    {
     "name": "stdout",
     "output_type": "stream",
     "text": [
      "MoviePy - Done.\n",
      "Conversion successful: D:\\NPTEL Audios\\arrays vs lists, binary search.mp3\n",
      "MoviePy - Writing audio in D:\\NPTEL Audios\\Assignment Statement and Operators in C.mp3\n"
     ]
    },
    {
     "name": "stderr",
     "output_type": "stream",
     "text": [
      "                                                                                                                       \r"
     ]
    },
    {
     "name": "stdout",
     "output_type": "stream",
     "text": [
      "MoviePy - Done.\n",
      "Conversion successful: D:\\NPTEL Audios\\Assignment Statement and Operators in C.mp3\n",
      "MoviePy - Writing audio in D:\\NPTEL Audios\\assignment statement, basic types - int, float, bool.mp3\n"
     ]
    },
    {
     "name": "stderr",
     "output_type": "stream",
     "text": [
      "                                                                                                                       \r"
     ]
    },
    {
     "name": "stdout",
     "output_type": "stream",
     "text": [
      "MoviePy - Done.\n",
      "Conversion successful: D:\\NPTEL Audios\\assignment statement, basic types - int, float, bool.mp3\n",
      "MoviePy - Writing audio in D:\\NPTEL Audios\\backtracking, n queens.mp3\n"
     ]
    },
    {
     "name": "stderr",
     "output_type": "stream",
     "text": [
      "                                                                                                                       \r"
     ]
    },
    {
     "name": "stdout",
     "output_type": "stream",
     "text": [
      "MoviePy - Done.\n",
      "Conversion successful: D:\\NPTEL Audios\\backtracking, n queens.mp3\n",
      "MoviePy - Writing audio in D:\\NPTEL Audios\\Binary Search (Contd.).mp3\n"
     ]
    },
    {
     "name": "stderr",
     "output_type": "stream",
     "text": [
      "                                                                                                                       \r"
     ]
    },
    {
     "name": "stdout",
     "output_type": "stream",
     "text": [
      "MoviePy - Done.\n",
      "Conversion successful: D:\\NPTEL Audios\\Binary Search (Contd.).mp3\n",
      "MoviePy - Writing audio in D:\\NPTEL Audios\\Binary Search.mp3\n"
     ]
    },
    {
     "name": "stderr",
     "output_type": "stream",
     "text": [
      "                                                                                                                       \r"
     ]
    },
    {
     "name": "stdout",
     "output_type": "stream",
     "text": [
      "MoviePy - Done.\n",
      "Conversion successful: D:\\NPTEL Audios\\Binary Search.mp3\n",
      "MoviePy - Writing audio in D:\\NPTEL Audios\\Bisection Method.mp3\n"
     ]
    },
    {
     "name": "stderr",
     "output_type": "stream",
     "text": [
      "                                                                                                                       \r"
     ]
    },
    {
     "name": "stdout",
     "output_type": "stream",
     "text": [
      "MoviePy - Done.\n",
      "Conversion successful: D:\\NPTEL Audios\\Bisection Method.mp3\n",
      "MoviePy - Writing audio in D:\\NPTEL Audios\\Branching  IF - ELSE Statement.mp3\n"
     ]
    },
    {
     "name": "stderr",
     "output_type": "stream",
     "text": [
      "                                                                                                                       \r"
     ]
    },
    {
     "name": "stdout",
     "output_type": "stream",
     "text": [
      "MoviePy - Done.\n",
      "Conversion successful: D:\\NPTEL Audios\\Branching  IF - ELSE Statement.mp3\n",
      "MoviePy - Writing audio in D:\\NPTEL Audios\\breaking out of a loop.mp3\n"
     ]
    },
    {
     "name": "stderr",
     "output_type": "stream",
     "text": [
      "                                                                                                                       \r"
     ]
    },
    {
     "name": "stdout",
     "output_type": "stream",
     "text": [
      "MoviePy - Done.\n",
      "Conversion successful: D:\\NPTEL Audios\\breaking out of a loop.mp3\n",
      "MoviePy - Writing audio in D:\\NPTEL Audios\\Bubble Sort (Contd.).mp3\n"
     ]
    },
    {
     "name": "stderr",
     "output_type": "stream",
     "text": [
      "                                                                                                                       \r"
     ]
    },
    {
     "name": "stdout",
     "output_type": "stream",
     "text": [
      "MoviePy - Done.\n",
      "Conversion successful: D:\\NPTEL Audios\\Bubble Sort (Contd.).mp3\n",
      "MoviePy - Writing audio in D:\\NPTEL Audios\\Character Array and Strings.mp3\n"
     ]
    },
    {
     "name": "stderr",
     "output_type": "stream",
     "text": [
      "                                                                                                                       \r"
     ]
    },
    {
     "name": "stdout",
     "output_type": "stream",
     "text": [
      "MoviePy - Done.\n",
      "Conversion successful: D:\\NPTEL Audios\\Character Array and Strings.mp3\n",
      "MoviePy - Writing audio in D:\\NPTEL Audios\\classes and objects in python.mp3\n"
     ]
    },
    {
     "name": "stderr",
     "output_type": "stream",
     "text": [
      "                                                                                                                       \r"
     ]
    },
    {
     "name": "stdout",
     "output_type": "stream",
     "text": [
      "MoviePy - Done.\n",
      "Conversion successful: D:\\NPTEL Audios\\classes and objects in python.mp3\n",
      "MoviePy - Writing audio in D:\\NPTEL Audios\\control flow.mp3\n"
     ]
    },
    {
     "name": "stderr",
     "output_type": "stream",
     "text": [
      "                                                                                                                       \r"
     ]
    },
    {
     "name": "stdout",
     "output_type": "stream",
     "text": [
      "MoviePy - Done.\n",
      "Conversion successful: D:\\NPTEL Audios\\control flow.mp3\n",
      "MoviePy - Writing audio in D:\\NPTEL Audios\\Data Representation.mp3\n"
     ]
    },
    {
     "name": "stderr",
     "output_type": "stream",
     "text": [
      "                                                                                                                       \r"
     ]
    },
    {
     "name": "stdout",
     "output_type": "stream",
     "text": [
      "MoviePy - Done.\n",
      "Conversion successful: D:\\NPTEL Audios\\Data Representation.mp3\n",
      "MoviePy - Writing audio in D:\\NPTEL Audios\\downloading and installing python.mp3\n"
     ]
    },
    {
     "name": "stderr",
     "output_type": "stream",
     "text": [
      "                                                                                                                       \r"
     ]
    },
    {
     "name": "stdout",
     "output_type": "stream",
     "text": [
      "MoviePy - Done.\n",
      "Conversion successful: D:\\NPTEL Audios\\downloading and installing python.mp3\n",
      "MoviePy - Writing audio in D:\\NPTEL Audios\\Dynamic Allocation and File.mp3\n"
     ]
    },
    {
     "name": "stderr",
     "output_type": "stream",
     "text": [
      "                                                                                                                       \r"
     ]
    },
    {
     "name": "stdout",
     "output_type": "stream",
     "text": [
      "MoviePy - Done.\n",
      "Conversion successful: D:\\NPTEL Audios\\Dynamic Allocation and File.mp3\n",
      "MoviePy - Writing audio in D:\\NPTEL Audios\\efficiency.mp3\n"
     ]
    },
    {
     "name": "stderr",
     "output_type": "stream",
     "text": [
      "                                                                                                                       \r"
     ]
    },
    {
     "name": "stdout",
     "output_type": "stream",
     "text": [
      "MoviePy - Done.\n",
      "Conversion successful: D:\\NPTEL Audios\\efficiency.mp3\n",
      "MoviePy - Writing audio in D:\\NPTEL Audios\\euclid's algorithm for gcd.mp3\n"
     ]
    },
    {
     "name": "stderr",
     "output_type": "stream",
     "text": [
      "                                                                                                                       \r"
     ]
    },
    {
     "name": "stdout",
     "output_type": "stream",
     "text": [
      "MoviePy - Done.\n",
      "Conversion successful: D:\\NPTEL Audios\\euclid's algorithm for gcd.mp3\n",
      "MoviePy - Writing audio in D:\\NPTEL Audios\\Example of If-Else.mp3\n"
     ]
    },
    {
     "name": "stderr",
     "output_type": "stream",
     "text": [
      "                                                                                                                       \r"
     ]
    },
    {
     "name": "stdout",
     "output_type": "stream",
     "text": [
      "MoviePy - Done.\n",
      "Conversion successful: D:\\NPTEL Audios\\Example of If-Else.mp3\n",
      "MoviePy - Writing audio in D:\\NPTEL Audios\\Example of Loops (Contd.), Use of FOR Loops.mp3\n"
     ]
    },
    {
     "name": "stderr",
     "output_type": "stream",
     "text": [
      "                                                                                                                       \r"
     ]
    },
    {
     "name": "stdout",
     "output_type": "stream",
     "text": [
      "MoviePy - Done.\n",
      "Conversion successful: D:\\NPTEL Audios\\Example of Loops (Contd.), Use of FOR Loops.mp3\n",
      "MoviePy - Writing audio in D:\\NPTEL Audios\\Example of Loops (Contd.).mp3\n"
     ]
    },
    {
     "name": "stderr",
     "output_type": "stream",
     "text": [
      "                                                                                                                       \r"
     ]
    },
    {
     "name": "stdout",
     "output_type": "stream",
     "text": [
      "MoviePy - Done.\n",
      "Conversion successful: D:\\NPTEL Audios\\Example of Loops (Contd.).mp3\n",
      "MoviePy - Writing audio in D:\\NPTEL Audios\\Example of Loops.mp3\n"
     ]
    },
    {
     "name": "stderr",
     "output_type": "stream",
     "text": [
      "                                                                                                                       \r"
     ]
    },
    {
     "name": "stdout",
     "output_type": "stream",
     "text": [
      "MoviePy - Done.\n",
      "Conversion successful: D:\\NPTEL Audios\\Example of Loops.mp3\n",
      "MoviePy - Writing audio in D:\\NPTEL Audios\\examples.mp3\n"
     ]
    },
    {
     "name": "stderr",
     "output_type": "stream",
     "text": [
      "                                                                                                                       \r"
     ]
    },
    {
     "name": "stdout",
     "output_type": "stream",
     "text": [
      "MoviePy - Done.\n",
      "Conversion successful: D:\\NPTEL Audios\\examples.mp3\n",
      "MoviePy - Writing audio in D:\\NPTEL Audios\\exception handling (1).mp3\n"
     ]
    },
    {
     "name": "stderr",
     "output_type": "stream",
     "text": [
      "                                                                                                                       \r"
     ]
    },
    {
     "name": "stdout",
     "output_type": "stream",
     "text": [
      "MoviePy - Done.\n",
      "Conversion successful: D:\\NPTEL Audios\\exception handling (1).mp3\n",
      "MoviePy - Writing audio in D:\\NPTEL Audios\\exception handling.mp3\n"
     ]
    },
    {
     "name": "stderr",
     "output_type": "stream",
     "text": [
      "                                                                                                                       \r"
     ]
    },
    {
     "name": "stdout",
     "output_type": "stream",
     "text": [
      "MoviePy - Done.\n",
      "Conversion successful: D:\\NPTEL Audios\\exception handling.mp3\n",
      "MoviePy - Writing audio in D:\\NPTEL Audios\\Flow Chart and Pseudocode.mp3\n"
     ]
    },
    {
     "name": "stderr",
     "output_type": "stream",
     "text": [
      "                                                                                                                       \r"
     ]
    },
    {
     "name": "stdout",
     "output_type": "stream",
     "text": [
      "MoviePy - Done.\n",
      "Conversion successful: D:\\NPTEL Audios\\Flow Chart and Pseudocode.mp3\n",
      "MoviePy - Writing audio in D:\\NPTEL Audios\\For Statement (Contd.).mp3\n"
     ]
    },
    {
     "name": "stderr",
     "output_type": "stream",
     "text": [
      "                                                                                                                       \r"
     ]
    },
    {
     "name": "stdout",
     "output_type": "stream",
     "text": [
      "MoviePy - Done.\n",
      "Conversion successful: D:\\NPTEL Audios\\For Statement (Contd.).mp3\n",
      "MoviePy - Writing audio in D:\\NPTEL Audios\\Function (Contd.).mp3\n"
     ]
    },
    {
     "name": "stderr",
     "output_type": "stream",
     "text": [
      "                                                                                                                       \r"
     ]
    },
    {
     "name": "stdout",
     "output_type": "stream",
     "text": [
      "MoviePy - Done.\n",
      "Conversion successful: D:\\NPTEL Audios\\Function (Contd.).mp3\n",
      "MoviePy - Writing audio in D:\\NPTEL Audios\\function definitions.mp3\n"
     ]
    },
    {
     "name": "stderr",
     "output_type": "stream",
     "text": [
      "                                                                                                                       \r"
     ]
    },
    {
     "name": "stdout",
     "output_type": "stream",
     "text": [
      "MoviePy - Done.\n",
      "Conversion successful: D:\\NPTEL Audios\\function definitions.mp3\n",
      "MoviePy - Writing audio in D:\\NPTEL Audios\\functions.mp3\n"
     ]
    },
    {
     "name": "stderr",
     "output_type": "stream",
     "text": [
      "                                                                                                                       \r"
     ]
    },
    {
     "name": "stdout",
     "output_type": "stream",
     "text": [
      "MoviePy - Done.\n",
      "Conversion successful: D:\\NPTEL Audios\\functions.mp3\n",
      "MoviePy - Writing audio in D:\\NPTEL Audios\\generating permutations.mp3\n"
     ]
    },
    {
     "name": "stderr",
     "output_type": "stream",
     "text": [
      "                                                                                                                       \r"
     ]
    },
    {
     "name": "stdout",
     "output_type": "stream",
     "text": [
      "MoviePy - Done.\n",
      "Conversion successful: D:\\NPTEL Audios\\generating permutations.mp3\n",
      "MoviePy - Writing audio in D:\\NPTEL Audios\\global scope, nested functions.mp3\n"
     ]
    },
    {
     "name": "stderr",
     "output_type": "stream",
     "text": [
      "                                                                                                                       \r"
     ]
    },
    {
     "name": "stdout",
     "output_type": "stream",
     "text": [
      "MoviePy - Done.\n",
      "Conversion successful: D:\\NPTEL Audios\\global scope, nested functions.mp3\n",
      "MoviePy - Writing audio in D:\\NPTEL Audios\\grid paths.mp3\n"
     ]
    },
    {
     "name": "stderr",
     "output_type": "stream",
     "text": [
      "                                                                                                                       \r"
     ]
    },
    {
     "name": "stdout",
     "output_type": "stream",
     "text": [
      "MoviePy - Done.\n",
      "Conversion successful: D:\\NPTEL Audios\\grid paths.mp3\n",
      "MoviePy - Writing audio in D:\\NPTEL Audios\\handling files.mp3\n"
     ]
    },
    {
     "name": "stderr",
     "output_type": "stream",
     "text": [
      "                                                                                                                       \r"
     ]
    },
    {
     "name": "stdout",
     "output_type": "stream",
     "text": [
      "MoviePy - Done.\n",
      "Conversion successful: D:\\NPTEL Audios\\handling files.mp3\n",
      "MoviePy - Writing audio in D:\\NPTEL Audios\\Idea of Algorithms.mp3\n"
     ]
    },
    {
     "name": "stderr",
     "output_type": "stream",
     "text": [
      "                                                                                                                       \r"
     ]
    },
    {
     "name": "stdout",
     "output_type": "stream",
     "text": [
      "MoviePy - Done.\n",
      "Conversion successful: D:\\NPTEL Audios\\Idea of Algorithms.mp3\n",
      "MoviePy - Writing audio in D:\\NPTEL Audios\\IF-ELSE Statement (Contd.).mp3\n"
     ]
    },
    {
     "name": "stderr",
     "output_type": "stream",
     "text": [
      "                                                                                                                       \r"
     ]
    },
    {
     "name": "stdout",
     "output_type": "stream",
     "text": [
      "MoviePy - Done.\n",
      "Conversion successful: D:\\NPTEL Audios\\IF-ELSE Statement (Contd.).mp3\n",
      "MoviePy - Writing audio in D:\\NPTEL Audios\\Implementation of Loops with for Statement (Contd.).mp3\n"
     ]
    },
    {
     "name": "stderr",
     "output_type": "stream",
     "text": [
      "                                                                                                                       \r"
     ]
    },
    {
     "name": "stdout",
     "output_type": "stream",
     "text": [
      "MoviePy - Done.\n",
      "Conversion successful: D:\\NPTEL Audios\\Implementation of Loops with for Statement (Contd.).mp3\n",
      "MoviePy - Writing audio in D:\\NPTEL Audios\\Implementing Repetitions (Loops).mp3\n"
     ]
    },
    {
     "name": "stderr",
     "output_type": "stream",
     "text": [
      "                                                                                                                       \r"
     ]
    },
    {
     "name": "stdout",
     "output_type": "stream",
     "text": [
      "MoviePy - Done.\n",
      "Conversion successful: D:\\NPTEL Audios\\Implementing Repetitions (Loops).mp3\n",
      "MoviePy - Writing audio in D:\\NPTEL Audios\\improving naive gcd.mp3\n"
     ]
    },
    {
     "name": "stderr",
     "output_type": "stream",
     "text": [
      "                                                                                                                       \r"
     ]
    },
    {
     "name": "stdout",
     "output_type": "stream",
     "text": [
      "MoviePy - Done.\n",
      "Conversion successful: D:\\NPTEL Audios\\improving naive gcd.mp3\n",
      "MoviePy - Writing audio in D:\\NPTEL Audios\\insertion sort.mp3\n"
     ]
    },
    {
     "name": "stderr",
     "output_type": "stream",
     "text": [
      "                                                                                                                       \r"
     ]
    },
    {
     "name": "stdout",
     "output_type": "stream",
     "text": [
      "MoviePy - Done.\n",
      "Conversion successful: D:\\NPTEL Audios\\insertion sort.mp3\n",
      "MoviePy - Writing audio in D:\\NPTEL Audios\\Interpolation.mp3\n"
     ]
    },
    {
     "name": "stderr",
     "output_type": "stream",
     "text": [
      "                                                                                                                       \r"
     ]
    },
    {
     "name": "stdout",
     "output_type": "stream",
     "text": [
      "MoviePy - Done.\n",
      "Conversion successful: D:\\NPTEL Audios\\Interpolation.mp3\n",
      "MoviePy - Writing audio in D:\\NPTEL Audios\\Introducing Functions (1).mp3\n"
     ]
    },
    {
     "name": "stderr",
     "output_type": "stream",
     "text": [
      "                                                                                                                       \r"
     ]
    },
    {
     "name": "stdout",
     "output_type": "stream",
     "text": [
      "MoviePy - Done.\n",
      "Conversion successful: D:\\NPTEL Audios\\Introducing Functions (1).mp3\n",
      "MoviePy - Writing audio in D:\\NPTEL Audios\\Introducing Functions.mp3\n"
     ]
    },
    {
     "name": "stderr",
     "output_type": "stream",
     "text": [
      "                                                                                                                       \r"
     ]
    },
    {
     "name": "stdout",
     "output_type": "stream",
     "text": [
      "MoviePy - Done.\n",
      "Conversion successful: D:\\NPTEL Audios\\Introducing Functions.mp3\n",
      "MoviePy - Writing audio in D:\\NPTEL Audios\\Introduction to Arrays.mp3\n"
     ]
    },
    {
     "name": "stderr",
     "output_type": "stream",
     "text": [
      "                                                                                                                       \r"
     ]
    },
    {
     "name": "stdout",
     "output_type": "stream",
     "text": [
      "MoviePy - Done.\n",
      "Conversion successful: D:\\NPTEL Audios\\Introduction to Arrays.mp3\n",
      "MoviePy - Writing audio in D:\\NPTEL Audios\\Introduction to Programming Language Concepts.mp3\n"
     ]
    },
    {
     "name": "stderr",
     "output_type": "stream",
     "text": [
      "                                                                                                                       \r"
     ]
    },
    {
     "name": "stdout",
     "output_type": "stream",
     "text": [
      "MoviePy - Done.\n",
      "Conversion successful: D:\\NPTEL Audios\\Introduction to Programming Language Concepts.mp3\n",
      "MoviePy - Writing audio in D:\\NPTEL Audios\\Introduction.mp3\n"
     ]
    },
    {
     "name": "stderr",
     "output_type": "stream",
     "text": [
      "                                                                                                                       \r"
     ]
    },
    {
     "name": "stdout",
     "output_type": "stream",
     "text": [
      "MoviePy - Done.\n",
      "Conversion successful: D:\\NPTEL Audios\\Introduction.mp3\n",
      "MoviePy - Writing audio in D:\\NPTEL Audios\\Lec 0 Introduction to C.mp3\n"
     ]
    },
    {
     "name": "stderr",
     "output_type": "stream",
     "text": [
      "                                                                                                                       \r"
     ]
    },
    {
     "name": "stdout",
     "output_type": "stream",
     "text": [
      "MoviePy - Done.\n",
      "Conversion successful: D:\\NPTEL Audios\\Lec 0 Introduction to C.mp3\n",
      "MoviePy - Writing audio in D:\\NPTEL Audios\\Lec 1 Introduction   The Process of Programming.mp3\n"
     ]
    },
    {
     "name": "stderr",
     "output_type": "stream",
     "text": [
      "                                                                                                                       \r"
     ]
    },
    {
     "name": "stdout",
     "output_type": "stream",
     "text": [
      "MoviePy - Done.\n",
      "Conversion successful: D:\\NPTEL Audios\\Lec 1 Introduction   The Process of Programming.mp3\n",
      "MoviePy - Writing audio in D:\\NPTEL Audios\\Lec 10 More while loops   Longest Increasing Subsequence 1.mp3\n"
     ]
    },
    {
     "name": "stderr",
     "output_type": "stream",
     "text": [
      "                                                                                                                       \r"
     ]
    },
    {
     "name": "stdout",
     "output_type": "stream",
     "text": [
      "MoviePy - Done.\n",
      "Conversion successful: D:\\NPTEL Audios\\Lec 10 More while loops   Longest Increasing Subsequence 1.mp3\n",
      "MoviePy - Writing audio in D:\\NPTEL Audios\\Lec 11 More while loops   Longest Increasing Subsequence 2.mp3\n"
     ]
    },
    {
     "name": "stderr",
     "output_type": "stream",
     "text": [
      "                                                                                                                       \r"
     ]
    },
    {
     "name": "stdout",
     "output_type": "stream",
     "text": [
      "MoviePy - Done.\n",
      "Conversion successful: D:\\NPTEL Audios\\Lec 11 More while loops   Longest Increasing Subsequence 2.mp3\n",
      "MoviePy - Writing audio in D:\\NPTEL Audios\\Lec 12 More while loops   Longest Increasing Subsequence 3.mp3\n"
     ]
    },
    {
     "name": "stderr",
     "output_type": "stream",
     "text": [
      "                                                                                                                       \r"
     ]
    },
    {
     "name": "stdout",
     "output_type": "stream",
     "text": [
      "MoviePy - Done.\n",
      "Conversion successful: D:\\NPTEL Audios\\Lec 12 More while loops   Longest Increasing Subsequence 3.mp3\n",
      "MoviePy - Writing audio in D:\\NPTEL Audios\\Lec 13 Do while loop.mp3\n"
     ]
    },
    {
     "name": "stderr",
     "output_type": "stream",
     "text": [
      "                                                                                                                       \r"
     ]
    },
    {
     "name": "stdout",
     "output_type": "stream",
     "text": [
      "MoviePy - Done.\n",
      "Conversion successful: D:\\NPTEL Audios\\Lec 13 Do while loop.mp3\n",
      "MoviePy - Writing audio in D:\\NPTEL Audios\\Lec 14 A matrix problem   nested loops.mp3\n"
     ]
    },
    {
     "name": "stderr",
     "output_type": "stream",
     "text": [
      "                                                                                                                       \r"
     ]
    },
    {
     "name": "stdout",
     "output_type": "stream",
     "text": [
      "MoviePy - Done.\n",
      "Conversion successful: D:\\NPTEL Audios\\Lec 14 A matrix problem   nested loops.mp3\n",
      "MoviePy - Writing audio in D:\\NPTEL Audios\\Lec 18 A matrix problem using nested for loops.mp3\n"
     ]
    },
    {
     "name": "stderr",
     "output_type": "stream",
     "text": [
      "                                                                                                                       \r"
     ]
    },
    {
     "name": "stdout",
     "output_type": "stream",
     "text": [
      "MoviePy - Done.\n",
      "Conversion successful: D:\\NPTEL Audios\\Lec 18 A matrix problem using nested for loops.mp3\n",
      "MoviePy - Writing audio in D:\\NPTEL Audios\\Lec 19 The break statement.mp3\n"
     ]
    },
    {
     "name": "stderr",
     "output_type": "stream",
     "text": [
      "                                                                                                                       \r"
     ]
    },
    {
     "name": "stdout",
     "output_type": "stream",
     "text": [
      "MoviePy - Done.\n",
      "Conversion successful: D:\\NPTEL Audios\\Lec 19 The break statement.mp3\n",
      "MoviePy - Writing audio in D:\\NPTEL Audios\\Lec 22 C operators and expressions   associativity of operators.mp3\n"
     ]
    },
    {
     "name": "stderr",
     "output_type": "stream",
     "text": [
      "                                                                                                                       \r"
     ]
    },
    {
     "name": "stdout",
     "output_type": "stream",
     "text": [
      "MoviePy - Done.\n",
      "Conversion successful: D:\\NPTEL Audios\\Lec 22 C operators and expressions   associativity of operators.mp3\n",
      "MoviePy - Writing audio in D:\\NPTEL Audios\\Lec 23 Precedence of C operators.mp3\n"
     ]
    },
    {
     "name": "stderr",
     "output_type": "stream",
     "text": [
      "                                                                                                                       \r"
     ]
    },
    {
     "name": "stdout",
     "output_type": "stream",
     "text": [
      "MoviePy - Done.\n",
      "Conversion successful: D:\\NPTEL Audios\\Lec 23 Precedence of C operators.mp3\n",
      "MoviePy - Writing audio in D:\\NPTEL Audios\\Lec 26 How functions are executed.mp3\n"
     ]
    },
    {
     "name": "stderr",
     "output_type": "stream",
     "text": [
      "                                                                                                                       \r"
     ]
    },
    {
     "name": "stdout",
     "output_type": "stream",
     "text": [
      "MoviePy - Done.\n",
      "Conversion successful: D:\\NPTEL Audios\\Lec 26 How functions are executed.mp3\n",
      "MoviePy - Writing audio in D:\\NPTEL Audios\\Lec 27 Some examples on functions.mp3\n"
     ]
    },
    {
     "name": "stderr",
     "output_type": "stream",
     "text": [
      "                                                                                                                       \r"
     ]
    },
    {
     "name": "stdout",
     "output_type": "stream",
     "text": [
      "MoviePy - Done.\n",
      "Conversion successful: D:\\NPTEL Audios\\Lec 27 Some examples on functions.mp3\n",
      "MoviePy - Writing audio in D:\\NPTEL Audios\\Lec 28 Some examples on functions.mp3\n"
     ]
    },
    {
     "name": "stderr",
     "output_type": "stream",
     "text": [
      "                                                                                                                       \r"
     ]
    },
    {
     "name": "stdout",
     "output_type": "stream",
     "text": [
      "MoviePy - Done.\n",
      "Conversion successful: D:\\NPTEL Audios\\Lec 28 Some examples on functions.mp3\n",
      "MoviePy - Writing audio in D:\\NPTEL Audios\\Lec 29 Arrays in C.mp3\n"
     ]
    },
    {
     "name": "stderr",
     "output_type": "stream",
     "text": [
      "                                                                                                                       \r"
     ]
    },
    {
     "name": "stdout",
     "output_type": "stream",
     "text": [
      "MoviePy - Done.\n",
      "Conversion successful: D:\\NPTEL Audios\\Lec 29 Arrays in C.mp3\n",
      "MoviePy - Writing audio in D:\\NPTEL Audios\\Lec 3 The Programming Cycle.mp3\n"
     ]
    },
    {
     "name": "stderr",
     "output_type": "stream",
     "text": [
      "                                                                                                                       \r"
     ]
    },
    {
     "name": "stdout",
     "output_type": "stream",
     "text": [
      "MoviePy - Done.\n",
      "Conversion successful: D:\\NPTEL Audios\\Lec 3 The Programming Cycle.mp3\n",
      "MoviePy - Writing audio in D:\\NPTEL Audios\\Lec 30 Initializing arrays.mp3\n"
     ]
    },
    {
     "name": "stderr",
     "output_type": "stream",
     "text": [
      "                                                                                                                       \r"
     ]
    },
    {
     "name": "stdout",
     "output_type": "stream",
     "text": [
      "MoviePy - Done.\n",
      "Conversion successful: D:\\NPTEL Audios\\Lec 30 Initializing arrays.mp3\n",
      "MoviePy - Writing audio in D:\\NPTEL Audios\\Lec 31 Initializing character arrays.mp3\n"
     ]
    },
    {
     "name": "stderr",
     "output_type": "stream",
     "text": [
      "                                                                                                                       \r"
     ]
    },
    {
     "name": "stdout",
     "output_type": "stream",
     "text": [
      "MoviePy - Done.\n",
      "Conversion successful: D:\\NPTEL Audios\\Lec 31 Initializing character arrays.mp3\n",
      "MoviePy - Writing audio in D:\\NPTEL Audios\\Lec 32 Pointers in C.mp3\n"
     ]
    },
    {
     "name": "stderr",
     "output_type": "stream",
     "text": [
      "                                                                                                                       \r"
     ]
    },
    {
     "name": "stdout",
     "output_type": "stream",
     "text": [
      "MoviePy - Done.\n",
      "Conversion successful: D:\\NPTEL Audios\\Lec 32 Pointers in C.mp3\n",
      "MoviePy - Writing audio in D:\\NPTEL Audios\\Lec 33 Pointer arithmetic.mp3\n"
     ]
    },
    {
     "name": "stderr",
     "output_type": "stream",
     "text": [
      "                                                                                                                       \r"
     ]
    },
    {
     "name": "stdout",
     "output_type": "stream",
     "text": [
      "MoviePy - Done.\n",
      "Conversion successful: D:\\NPTEL Audios\\Lec 33 Pointer arithmetic.mp3\n",
      "MoviePy - Writing audio in D:\\NPTEL Audios\\Lec 35 Example   Function to copy a subarray into another.mp3\n"
     ]
    },
    {
     "name": "stderr",
     "output_type": "stream",
     "text": [
      "                                                                                                                       \r"
     ]
    },
    {
     "name": "stdout",
     "output_type": "stream",
     "text": [
      "MoviePy - Done.\n",
      "Conversion successful: D:\\NPTEL Audios\\Lec 35 Example   Function to copy a subarray into another.mp3\n",
      "MoviePy - Writing audio in D:\\NPTEL Audios\\Lec 36 Programming using arrays and pointers.mp3\n"
     ]
    },
    {
     "name": "stderr",
     "output_type": "stream",
     "text": [
      "                                                                                                                       \r"
     ]
    },
    {
     "name": "stdout",
     "output_type": "stream",
     "text": [
      "MoviePy - Done.\n",
      "Conversion successful: D:\\NPTEL Audios\\Lec 36 Programming using arrays and pointers.mp3\n",
      "MoviePy - Writing audio in D:\\NPTEL Audios\\Lec 37 sizeof operator   how pointer arithmetic works.mp3\n"
     ]
    },
    {
     "name": "stderr",
     "output_type": "stream",
     "text": [
      "                                                                                                                       \r"
     ]
    },
    {
     "name": "stdout",
     "output_type": "stream",
     "text": [
      "MoviePy - Done.\n",
      "Conversion successful: D:\\NPTEL Audios\\Lec 37 sizeof operator   how pointer arithmetic works.mp3\n",
      "MoviePy - Writing audio in D:\\NPTEL Audios\\Lec 38 Returning pointers from functions.mp3\n"
     ]
    },
    {
     "name": "stderr",
     "output_type": "stream",
     "text": [
      "                                                                                                                       \r"
     ]
    },
    {
     "name": "stdout",
     "output_type": "stream",
     "text": [
      "MoviePy - Done.\n",
      "Conversion successful: D:\\NPTEL Audios\\Lec 38 Returning pointers from functions.mp3\n",
      "MoviePy - Writing audio in D:\\NPTEL Audios\\Lec 39 Example for returning pointers   return the duplicate of a string.mp3\n"
     ]
    },
    {
     "name": "stderr",
     "output_type": "stream",
     "text": [
      "                                                                                                                       \r"
     ]
    },
    {
     "name": "stdout",
     "output_type": "stream",
     "text": [
      "MoviePy - Done.\n",
      "Conversion successful: D:\\NPTEL Audios\\Lec 39 Example for returning pointers   return the duplicate of a string.mp3\n",
      "MoviePy - Writing audio in D:\\NPTEL Audios\\Lec 4 Tracing a Simple Program.mp3\n"
     ]
    },
    {
     "name": "stderr",
     "output_type": "stream",
     "text": [
      "                                                                                                                       \r"
     ]
    },
    {
     "name": "stdout",
     "output_type": "stream",
     "text": [
      "MoviePy - Done.\n",
      "Conversion successful: D:\\NPTEL Audios\\Lec 4 Tracing a Simple Program.mp3\n",
      "MoviePy - Writing audio in D:\\NPTEL Audios\\Lec 40 Recursion Linear recursion.mp3\n"
     ]
    },
    {
     "name": "stderr",
     "output_type": "stream",
     "text": [
      "                                                                                                                       \r"
     ]
    },
    {
     "name": "stdout",
     "output_type": "stream",
     "text": [
      "MoviePy - Done.\n",
      "Conversion successful: D:\\NPTEL Audios\\Lec 40 Recursion Linear recursion.mp3\n",
      "MoviePy - Writing audio in D:\\NPTEL Audios\\Lec 41 Recursion Linear recursion 2.mp3\n"
     ]
    },
    {
     "name": "stderr",
     "output_type": "stream",
     "text": [
      "                                                                                                                       \r"
     ]
    },
    {
     "name": "stdout",
     "output_type": "stream",
     "text": [
      "MoviePy - Done.\n",
      "Conversion successful: D:\\NPTEL Audios\\Lec 41 Recursion Linear recursion 2.mp3\n",
      "MoviePy - Writing audio in D:\\NPTEL Audios\\Lec 44 Multidimensional arrays and pointers.mp3\n"
     ]
    },
    {
     "name": "stderr",
     "output_type": "stream",
     "text": [
      "                                                                                                                       \r"
     ]
    },
    {
     "name": "stdout",
     "output_type": "stream",
     "text": [
      "MoviePy - Done.\n",
      "Conversion successful: D:\\NPTEL Audios\\Lec 44 Multidimensional arrays and pointers.mp3\n",
      "MoviePy - Writing audio in D:\\NPTEL Audios\\Lec 45 Multidimensional arrays and pointers   continued.mp3\n"
     ]
    },
    {
     "name": "stderr",
     "output_type": "stream",
     "text": [
      "                                                                                                                       \r"
     ]
    },
    {
     "name": "stdout",
     "output_type": "stream",
     "text": [
      "MoviePy - Done.\n",
      "Conversion successful: D:\\NPTEL Audios\\Lec 45 Multidimensional arrays and pointers   continued.mp3\n",
      "MoviePy - Writing audio in D:\\NPTEL Audios\\Lec 46 Multidimensional arrays and pointers   continued.mp3\n"
     ]
    },
    {
     "name": "stderr",
     "output_type": "stream",
     "text": [
      "                                                                                                                       \r"
     ]
    },
    {
     "name": "stdout",
     "output_type": "stream",
     "text": [
      "MoviePy - Done.\n",
      "Conversion successful: D:\\NPTEL Audios\\Lec 46 Multidimensional arrays and pointers   continued.mp3\n",
      "MoviePy - Writing audio in D:\\NPTEL Audios\\Lec 47 File Handling.mp3\n"
     ]
    },
    {
     "name": "stderr",
     "output_type": "stream",
     "text": [
      "                                                                                                                       \r"
     ]
    },
    {
     "name": "stdout",
     "output_type": "stream",
     "text": [
      "MoviePy - Done.\n",
      "Conversion successful: D:\\NPTEL Audios\\Lec 47 File Handling.mp3\n",
      "MoviePy - Writing audio in D:\\NPTEL Audios\\Lec 48 Some other file handling functions.mp3\n"
     ]
    },
    {
     "name": "stderr",
     "output_type": "stream",
     "text": [
      "                                                                                                                       \r"
     ]
    },
    {
     "name": "stdout",
     "output_type": "stream",
     "text": [
      "MoviePy - Done.\n",
      "Conversion successful: D:\\NPTEL Audios\\Lec 48 Some other file handling functions.mp3\n",
      "MoviePy - Writing audio in D:\\NPTEL Audios\\Lec 6 Operators.mp3\n"
     ]
    },
    {
     "name": "stderr",
     "output_type": "stream",
     "text": [
      "                                                                                                                       \r"
     ]
    },
    {
     "name": "stdout",
     "output_type": "stream",
     "text": [
      "MoviePy - Done.\n",
      "Conversion successful: D:\\NPTEL Audios\\Lec 6 Operators.mp3\n",
      "MoviePy - Writing audio in D:\\NPTEL Audios\\Lec 7 While Loop   1.mp3\n"
     ]
    },
    {
     "name": "stderr",
     "output_type": "stream",
     "text": [
      "                                                                                                                       \r"
     ]
    },
    {
     "name": "stdout",
     "output_type": "stream",
     "text": [
      "MoviePy - Done.\n",
      "Conversion successful: D:\\NPTEL Audios\\Lec 7 While Loop   1.mp3\n",
      "MoviePy - Writing audio in D:\\NPTEL Audios\\Lec 8 While Loop example.mp3\n"
     ]
    },
    {
     "name": "stderr",
     "output_type": "stream",
     "text": [
      "                                                                                                                       \r"
     ]
    },
    {
     "name": "stdout",
     "output_type": "stream",
     "text": [
      "MoviePy - Done.\n",
      "Conversion successful: D:\\NPTEL Audios\\Lec 8 While Loop example.mp3\n",
      "MoviePy - Writing audio in D:\\NPTEL Audios\\Lec 9 While Loop example   GCD.mp3\n"
     ]
    },
    {
     "name": "stderr",
     "output_type": "stream",
     "text": [
      "                                                                                                                       \r"
     ]
    },
    {
     "name": "stdout",
     "output_type": "stream",
     "text": [
      "MoviePy - Done.\n",
      "Conversion successful: D:\\NPTEL Audios\\Lec 9 While Loop example   GCD.mp3\n",
      "MoviePy - Writing audio in D:\\NPTEL Audios\\Linear Search.mp3\n"
     ]
    },
    {
     "name": "stderr",
     "output_type": "stream",
     "text": [
      "                                                                                                                       \r"
     ]
    },
    {
     "name": "stdout",
     "output_type": "stream",
     "text": [
      "MoviePy - Done.\n",
      "Conversion successful: D:\\NPTEL Audios\\Linear Search.mp3\n",
      "MoviePy - Writing audio in D:\\NPTEL Audios\\list comprehension.mp3\n"
     ]
    },
    {
     "name": "stderr",
     "output_type": "stream",
     "text": [
      "                                                                                                                       \r"
     ]
    },
    {
     "name": "stdout",
     "output_type": "stream",
     "text": [
      "MoviePy - Done.\n",
      "Conversion successful: D:\\NPTEL Audios\\list comprehension.mp3\n",
      "MoviePy - Writing audio in D:\\NPTEL Audios\\lists.mp3\n"
     ]
    },
    {
     "name": "stderr",
     "output_type": "stream",
     "text": [
      "                                                                                                                       \r"
     ]
    },
    {
     "name": "stdout",
     "output_type": "stream",
     "text": [
      "MoviePy - Done.\n",
      "Conversion successful: D:\\NPTEL Audios\\lists.mp3\n",
      "MoviePy - Writing audio in D:\\NPTEL Audios\\Logical Operators and Change in Control Flow.mp3\n"
     ]
    },
    {
     "name": "stderr",
     "output_type": "stream",
     "text": [
      "                                                                                                                       \r"
     ]
    },
    {
     "name": "stdout",
     "output_type": "stream",
     "text": [
      "MoviePy - Done.\n",
      "Conversion successful: D:\\NPTEL Audios\\Logical Operators and Change in Control Flow.mp3\n",
      "MoviePy - Writing audio in D:\\NPTEL Audios\\longest common subsequence.mp3\n"
     ]
    },
    {
     "name": "stderr",
     "output_type": "stream",
     "text": [
      "                                                                                                                       \r"
     ]
    },
    {
     "name": "stdout",
     "output_type": "stream",
     "text": [
      "MoviePy - Done.\n",
      "Conversion successful: D:\\NPTEL Audios\\longest common subsequence.mp3\n",
      "MoviePy - Writing audio in D:\\NPTEL Audios\\manipulating lists.mp3\n"
     ]
    },
    {
     "name": "stderr",
     "output_type": "stream",
     "text": [
      "                                                                                                                       \r"
     ]
    },
    {
     "name": "stdout",
     "output_type": "stream",
     "text": [
      "MoviePy - Done.\n",
      "Conversion successful: D:\\NPTEL Audios\\manipulating lists.mp3\n",
      "MoviePy - Writing audio in D:\\NPTEL Audios\\matrix multiplication.mp3\n"
     ]
    },
    {
     "name": "stderr",
     "output_type": "stream",
     "text": [
      "                                                                                                                       \r"
     ]
    },
    {
     "name": "stdout",
     "output_type": "stream",
     "text": [
      "MoviePy - Done.\n",
      "Conversion successful: D:\\NPTEL Audios\\matrix multiplication.mp3\n",
      "MoviePy - Writing audio in D:\\NPTEL Audios\\memoization and dynamic programming.mp3\n"
     ]
    },
    {
     "name": "stderr",
     "output_type": "stream",
     "text": [
      "                                                                                                                       \r"
     ]
    },
    {
     "name": "stdout",
     "output_type": "stream",
     "text": [
      "MoviePy - Done.\n",
      "Conversion successful: D:\\NPTEL Audios\\memoization and dynamic programming.mp3\n",
      "MoviePy - Writing audio in D:\\NPTEL Audios\\mergesort, analysis.mp3\n"
     ]
    },
    {
     "name": "stderr",
     "output_type": "stream",
     "text": [
      "                                                                                                                       \r"
     ]
    },
    {
     "name": "stdout",
     "output_type": "stream",
     "text": [
      "MoviePy - Done.\n",
      "Conversion successful: D:\\NPTEL Audios\\mergesort, analysis.mp3\n",
      "MoviePy - Writing audio in D:\\NPTEL Audios\\mergesort.mp3\n"
     ]
    },
    {
     "name": "stderr",
     "output_type": "stream",
     "text": [
      "                                                                                                                       \r"
     ]
    },
    {
     "name": "stdout",
     "output_type": "stream",
     "text": [
      "MoviePy - Done.\n",
      "Conversion successful: D:\\NPTEL Audios\\mergesort.mp3\n",
      "MoviePy - Writing audio in D:\\NPTEL Audios\\more about range().mp3\n"
     ]
    },
    {
     "name": "stderr",
     "output_type": "stream",
     "text": [
      "                                                                                                                       \r"
     ]
    },
    {
     "name": "stdout",
     "output_type": "stream",
     "text": [
      "MoviePy - Done.\n",
      "Conversion successful: D:\\NPTEL Audios\\more about range().mp3\n",
      "MoviePy - Writing audio in D:\\NPTEL Audios\\More on Functions.mp3\n"
     ]
    },
    {
     "name": "stderr",
     "output_type": "stream",
     "text": [
      "                                                                                                                       \r"
     ]
    },
    {
     "name": "stdout",
     "output_type": "stream",
     "text": [
      "MoviePy - Done.\n",
      "Conversion successful: D:\\NPTEL Audios\\More on Functions.mp3\n",
      "MoviePy - Writing audio in D:\\NPTEL Audios\\Parameter Passing in Function Revision (Contd.).mp3\n"
     ]
    },
    {
     "name": "stderr",
     "output_type": "stream",
     "text": [
      "                                                                                                                       \r"
     ]
    },
    {
     "name": "stdout",
     "output_type": "stream",
     "text": [
      "MoviePy - Done.\n",
      "Conversion successful: D:\\NPTEL Audios\\Parameter Passing in Function Revision (Contd.).mp3\n",
      "MoviePy - Writing audio in D:\\NPTEL Audios\\Parameter Passing in Function Revision.mp3\n"
     ]
    },
    {
     "name": "stderr",
     "output_type": "stream",
     "text": [
      "                                                                                                                       \r"
     ]
    },
    {
     "name": "stdout",
     "output_type": "stream",
     "text": [
      "MoviePy - Done.\n",
      "Conversion successful: D:\\NPTEL Audios\\Parameter Passing in Function Revision.mp3\n",
      "MoviePy - Writing audio in D:\\NPTEL Audios\\paste del and none.mp3\n"
     ]
    },
    {
     "name": "stderr",
     "output_type": "stream",
     "text": [
      "                                                                                                                       \r"
     ]
    },
    {
     "name": "stdout",
     "output_type": "stream",
     "text": [
      "MoviePy - Done.\n",
      "Conversion successful: D:\\NPTEL Audios\\paste del and none.mp3\n",
      "MoviePy - Writing audio in D:\\NPTEL Audios\\Pointer (Contd.).mp3\n"
     ]
    },
    {
     "name": "stderr",
     "output_type": "stream",
     "text": [
      "                                                                                                                       \r"
     ]
    },
    {
     "name": "stdout",
     "output_type": "stream",
     "text": [
      "MoviePy - Done.\n",
      "Conversion successful: D:\\NPTEL Audios\\Pointer (Contd.).mp3\n",
      "MoviePy - Writing audio in D:\\NPTEL Audios\\Pointer in Structures.mp3\n"
     ]
    },
    {
     "name": "stderr",
     "output_type": "stream",
     "text": [
      "                                                                                                                       \r"
     ]
    },
    {
     "name": "stdout",
     "output_type": "stream",
     "text": [
      "MoviePy - Done.\n",
      "Conversion successful: D:\\NPTEL Audios\\Pointer in Structures.mp3\n",
      "MoviePy - Writing audio in D:\\NPTEL Audios\\Pointer.mp3\n"
     ]
    },
    {
     "name": "stderr",
     "output_type": "stream",
     "text": [
      "                                                                                                                       \r"
     ]
    },
    {
     "name": "stdout",
     "output_type": "stream",
     "text": [
      "MoviePy - Done.\n",
      "Conversion successful: D:\\NPTEL Audios\\Pointer.mp3\n",
      "MoviePy - Writing audio in D:\\NPTEL Audios\\priority queues and heaps.mp3\n"
     ]
    },
    {
     "name": "stderr",
     "output_type": "stream",
     "text": [
      "                                                                                                                       \r"
     ]
    },
    {
     "name": "stdout",
     "output_type": "stream",
     "text": [
      "MoviePy - Done.\n",
      "Conversion successful: D:\\NPTEL Audios\\priority queues and heaps.mp3\n",
      "MoviePy - Writing audio in D:\\NPTEL Audios\\Prof  A  Basu.mp3\n"
     ]
    },
    {
     "name": "stderr",
     "output_type": "stream",
     "text": [
      "                                                                                                                       \r"
     ]
    },
    {
     "name": "stdout",
     "output_type": "stream",
     "text": [
      "MoviePy - Done.\n",
      "Conversion successful: D:\\NPTEL Audios\\Prof  A  Basu.mp3\n",
      "MoviePy - Writing audio in D:\\NPTEL Audios\\Program using Arrays.mp3\n"
     ]
    },
    {
     "name": "stderr",
     "output_type": "stream",
     "text": [
      "                                                                                                                       \r"
     ]
    },
    {
     "name": "stdout",
     "output_type": "stream",
     "text": [
      "MoviePy - Done.\n",
      "Conversion successful: D:\\NPTEL Audios\\Program using Arrays.mp3\n",
      "MoviePy - Writing audio in D:\\NPTEL Audios\\python intro.mp3\n"
     ]
    },
    {
     "name": "stderr",
     "output_type": "stream",
     "text": [
      "                                                                                                                       \r"
     ]
    },
    {
     "name": "stdout",
     "output_type": "stream",
     "text": [
      "MoviePy - Done.\n",
      "Conversion successful: D:\\NPTEL Audios\\python intro.mp3\n",
      "MoviePy - Writing audio in D:\\NPTEL Audios\\quicksort analysis.mp3\n"
     ]
    },
    {
     "name": "stderr",
     "output_type": "stream",
     "text": [
      "                                                                                                                       \r"
     ]
    },
    {
     "name": "stdout",
     "output_type": "stream",
     "text": [
      "MoviePy - Done.\n",
      "Conversion successful: D:\\NPTEL Audios\\quicksort analysis.mp3\n",
      "MoviePy - Writing audio in D:\\NPTEL Audios\\quicksort.mp3\n"
     ]
    },
    {
     "name": "stderr",
     "output_type": "stream",
     "text": [
      "                                                                                                                       \r"
     ]
    },
    {
     "name": "stdout",
     "output_type": "stream",
     "text": [
      "MoviePy - Done.\n",
      "Conversion successful: D:\\NPTEL Audios\\quicksort.mp3\n",
      "MoviePy - Writing audio in D:\\NPTEL Audios\\recursion (1).mp3\n"
     ]
    },
    {
     "name": "stderr",
     "output_type": "stream",
     "text": [
      "                                                                                                                       \r"
     ]
    },
    {
     "name": "stdout",
     "output_type": "stream",
     "text": [
      "MoviePy - Done.\n",
      "Conversion successful: D:\\NPTEL Audios\\recursion (1).mp3\n",
      "MoviePy - Writing audio in D:\\NPTEL Audios\\Recursion(Contd.).mp3\n"
     ]
    },
    {
     "name": "stderr",
     "output_type": "stream",
     "text": [
      "                                                                                                                       \r"
     ]
    },
    {
     "name": "stdout",
     "output_type": "stream",
     "text": [
      "MoviePy - Done.\n",
      "Conversion successful: D:\\NPTEL Audios\\Recursion(Contd.).mp3\n",
      "MoviePy - Writing audio in D:\\NPTEL Audios\\Recursion.mp3\n"
     ]
    },
    {
     "name": "stderr",
     "output_type": "stream",
     "text": [
      "                                                                                                                       \r"
     ]
    },
    {
     "name": "stdout",
     "output_type": "stream",
     "text": [
      "MoviePy - Done.\n",
      "Conversion successful: D:\\NPTEL Audios\\Recursion.mp3\n",
      "MoviePy - Writing audio in D:\\NPTEL Audios\\Scanf and Printf Functions; Function Prototype.mp3\n"
     ]
    },
    {
     "name": "stderr",
     "output_type": "stream",
     "text": [
      "                                                                                                                       \r"
     ]
    },
    {
     "name": "stdout",
     "output_type": "stream",
     "text": [
      "MoviePy - Done.\n",
      "Conversion successful: D:\\NPTEL Audios\\Scanf and Printf Functions; Function Prototype.mp3\n",
      "MoviePy - Writing audio in D:\\NPTEL Audios\\search as a function.mp3\n"
     ]
    },
    {
     "name": "stderr",
     "output_type": "stream",
     "text": [
      "                                                                                                                       \r"
     ]
    },
    {
     "name": "stdout",
     "output_type": "stream",
     "text": [
      "MoviePy - Done.\n",
      "Conversion successful: D:\\NPTEL Audios\\search as a function.mp3\n",
      "MoviePy - Writing audio in D:\\NPTEL Audios\\search trees.mp3\n"
     ]
    },
    {
     "name": "stderr",
     "output_type": "stream",
     "text": [
      "                                                                                                                       \r"
     ]
    },
    {
     "name": "stdout",
     "output_type": "stream",
     "text": [
      "MoviePy - Done.\n",
      "Conversion successful: D:\\NPTEL Audios\\search trees.mp3\n",
      "MoviePy - Writing audio in D:\\NPTEL Audios\\selection sort.mp3\n"
     ]
    },
    {
     "name": "stderr",
     "output_type": "stream",
     "text": [
      "                                                                                                                       \r"
     ]
    },
    {
     "name": "stdout",
     "output_type": "stream",
     "text": [
      "MoviePy - Done.\n",
      "Conversion successful: D:\\NPTEL Audios\\selection sort.mp3\n",
      "MoviePy - Writing audio in D:\\NPTEL Audios\\sets, stacks, queues.mp3\n"
     ]
    },
    {
     "name": "stderr",
     "output_type": "stream",
     "text": [
      "                                                                                                                       \r"
     ]
    },
    {
     "name": "stdout",
     "output_type": "stream",
     "text": [
      "MoviePy - Done.\n",
      "Conversion successful: D:\\NPTEL Audios\\sets, stacks, queues.mp3\n",
      "MoviePy - Writing audio in D:\\NPTEL Audios\\Sorting Methods.mp3\n"
     ]
    },
    {
     "name": "stderr",
     "output_type": "stream",
     "text": [
      "                                                                                                                       \r"
     ]
    },
    {
     "name": "stdout",
     "output_type": "stream",
     "text": [
      "MoviePy - Done.\n",
      "Conversion successful: D:\\NPTEL Audios\\Sorting Methods.mp3\n",
      "MoviePy - Writing audio in D:\\NPTEL Audios\\standard input and output.mp3\n"
     ]
    },
    {
     "name": "stderr",
     "output_type": "stream",
     "text": [
      "                                                                                                                       \r"
     ]
    },
    {
     "name": "stdout",
     "output_type": "stream",
     "text": [
      "MoviePy - Done.\n",
      "Conversion successful: D:\\NPTEL Audios\\standard input and output.mp3\n",
      "MoviePy - Writing audio in D:\\NPTEL Audios\\string functions.mp3\n"
     ]
    },
    {
     "name": "stderr",
     "output_type": "stream",
     "text": [
      "                                                                                                                       \r"
     ]
    },
    {
     "name": "stdout",
     "output_type": "stream",
     "text": [
      "MoviePy - Done.\n",
      "Conversion successful: D:\\NPTEL Audios\\string functions.mp3\n",
      "MoviePy - Writing audio in D:\\NPTEL Audios\\String Operations.mp3\n"
     ]
    },
    {
     "name": "stderr",
     "output_type": "stream",
     "text": [
      "                                                                                                                       \r"
     ]
    },
    {
     "name": "stdout",
     "output_type": "stream",
     "text": [
      "MoviePy - Done.\n",
      "Conversion successful: D:\\NPTEL Audios\\String Operations.mp3\n",
      "MoviePy - Writing audio in D:\\NPTEL Audios\\strings.mp3\n"
     ]
    },
    {
     "name": "stderr",
     "output_type": "stream",
     "text": [
      "                                                                                                                       \r"
     ]
    },
    {
     "name": "stdout",
     "output_type": "stream",
     "text": [
      "MoviePy - Done.\n",
      "Conversion successful: D:\\NPTEL Audios\\strings.mp3\n",
      "MoviePy - Writing audio in D:\\NPTEL Audios\\Structure (Contd.).mp3\n"
     ]
    },
    {
     "name": "stderr",
     "output_type": "stream",
     "text": [
      "                                                                                                                       \r"
     ]
    },
    {
     "name": "stdout",
     "output_type": "stream",
     "text": [
      "MoviePy - Done.\n",
      "Conversion successful: D:\\NPTEL Audios\\Structure (Contd.).mp3\n",
      "MoviePy - Writing audio in D:\\NPTEL Audios\\Structure with typedef.mp3\n"
     ]
    },
    {
     "name": "stderr",
     "output_type": "stream",
     "text": [
      "                                                                                                                       \r"
     ]
    },
    {
     "name": "stdout",
     "output_type": "stream",
     "text": [
      "MoviePy - Done.\n",
      "Conversion successful: D:\\NPTEL Audios\\Structure with typedef.mp3\n",
      "MoviePy - Writing audio in D:\\NPTEL Audios\\Structure.mp3\n"
     ]
    },
    {
     "name": "stderr",
     "output_type": "stream",
     "text": [
      "                                                                                                                       \r"
     ]
    },
    {
     "name": "stdout",
     "output_type": "stream",
     "text": [
      "MoviePy - Done.\n",
      "Conversion successful: D:\\NPTEL Audios\\Structure.mp3\n",
      "MoviePy - Writing audio in D:\\NPTEL Audios\\Substitution of .mp3\n"
     ]
    },
    {
     "name": "stderr",
     "output_type": "stream",
     "text": [
      "                                                                                                                       \r"
     ]
    },
    {
     "name": "stdout",
     "output_type": "stream",
     "text": [
      "MoviePy - Done.\n",
      "Conversion successful: D:\\NPTEL Audios\\Substitution of .mp3\n",
      "MoviePy - Writing audio in D:\\NPTEL Audios\\Switch Statement (Contd.) and Introduction to Loops.mp3\n"
     ]
    },
    {
     "name": "stderr",
     "output_type": "stream",
     "text": [
      "                                                                                                                       \r"
     ]
    },
    {
     "name": "stdout",
     "output_type": "stream",
     "text": [
      "MoviePy - Done.\n",
      "Conversion successful: D:\\NPTEL Audios\\Switch Statement (Contd.) and Introduction to Loops.mp3\n",
      "MoviePy - Writing audio in D:\\NPTEL Audios\\Switch statement.mp3\n"
     ]
    },
    {
     "name": "stderr",
     "output_type": "stream",
     "text": [
      "                                                                                                                       \r"
     ]
    },
    {
     "name": "stdout",
     "output_type": "stream",
     "text": [
      "MoviePy - Done.\n",
      "Conversion successful: D:\\NPTEL Audios\\Switch statement.mp3\n",
      "MoviePy - Writing audio in D:\\NPTEL Audios\\Trapezoidal Rule and Runge-Kutta Method.mp3\n"
     ]
    },
    {
     "name": "stderr",
     "output_type": "stream",
     "text": [
      "                                                                                                                       \r"
     ]
    },
    {
     "name": "stdout",
     "output_type": "stream",
     "text": [
      "MoviePy - Done.\n",
      "Conversion successful: D:\\NPTEL Audios\\Trapezoidal Rule and Runge-Kutta Method.mp3\n",
      "MoviePy - Writing audio in D:\\NPTEL Audios\\tuples and dictionaries.mp3\n"
     ]
    },
    {
     "name": "stderr",
     "output_type": "stream",
     "text": [
      "                                                                                                                       \r"
     ]
    },
    {
     "name": "stdout",
     "output_type": "stream",
     "text": [
      "MoviePy - Done.\n",
      "Conversion successful: D:\\NPTEL Audios\\tuples and dictionaries.mp3\n",
      "MoviePy - Writing audio in D:\\NPTEL Audios\\Types of Software and Compilers.mp3\n"
     ]
    },
    {
     "name": "stderr",
     "output_type": "stream",
     "text": [
      "                                                                                                                       \r"
     ]
    },
    {
     "name": "stdout",
     "output_type": "stream",
     "text": [
      "MoviePy - Done.\n",
      "Conversion successful: D:\\NPTEL Audios\\Types of Software and Compilers.mp3\n",
      "MoviePy - Writing audio in D:\\NPTEL Audios\\Use of Logical Operaotrs in Branching.mp3\n"
     ]
    },
    {
     "name": "stderr",
     "output_type": "stream",
     "text": [
      "                                                                                                                       \r"
     ]
    },
    {
     "name": "stdout",
     "output_type": "stream",
     "text": [
      "MoviePy - Done.\n",
      "Conversion successful: D:\\NPTEL Audios\\Use of Logical Operaotrs in Branching.mp3\n",
      "MoviePy - Writing audio in D:\\NPTEL Audios\\Use of Pointer in Function Context Bubble Sort.mp3\n"
     ]
    },
    {
     "name": "stderr",
     "output_type": "stream",
     "text": [
      "                                                                                                                       \r"
     ]
    },
    {
     "name": "stdout",
     "output_type": "stream",
     "text": [
      "MoviePy - Done.\n",
      "Conversion successful: D:\\NPTEL Audios\\Use of Pointer in Function Context Bubble Sort.mp3\n",
      "MoviePy - Writing audio in D:\\NPTEL Audios\\user defined lists.mp3\n"
     ]
    },
    {
     "name": "stderr",
     "output_type": "stream",
     "text": [
      "                                                                                                                       \r"
     ]
    },
    {
     "name": "stdout",
     "output_type": "stream",
     "text": [
      "MoviePy - Done.\n",
      "Conversion successful: D:\\NPTEL Audios\\user defined lists.mp3\n",
      "MoviePy - Writing audio in D:\\NPTEL Audios\\Variables and Memory.mp3\n"
     ]
    },
    {
     "name": "stderr",
     "output_type": "stream",
     "text": [
      "                                                                                                                       \r"
     ]
    },
    {
     "name": "stdout",
     "output_type": "stream",
     "text": [
      "MoviePy - Done.\n",
      "Conversion successful: D:\\NPTEL Audios\\Variables and Memory.mp3\n",
      "MoviePy - Writing audio in D:\\NPTEL Audios\\Variables and Variable Types in C.mp3\n"
     ]
    },
    {
     "name": "stderr",
     "output_type": "stream",
     "text": [
      "                                                                                                                       "
     ]
    },
    {
     "name": "stdout",
     "output_type": "stream",
     "text": [
      "MoviePy - Done.\n",
      "Conversion successful: D:\\NPTEL Audios\\Variables and Variable Types in C.mp3\n"
     ]
    },
    {
     "name": "stderr",
     "output_type": "stream",
     "text": [
      "\r"
     ]
    }
   ],
   "source": [
    "for filename in os.listdir(videos_folder):\n",
    "    if filename.endswith((\".mp4\", \".avi\", \".mkv\")):  # Specify video file extensions\n",
    "        video_file_path = os.path.join(videos_folder, filename)\n",
    "        audio_file_path = os.path.join(audios_folder, f\"{os.path.splitext(filename)[0]}.mp3\")\n",
    "        video_to_audio(video_file_path, audio_file_path)"
   ]
  },
  {
   "cell_type": "code",
   "execution_count": 4,
   "id": "ce42c89e",
   "metadata": {},
   "outputs": [],
   "source": [
    "def mp3_to_wav(audio_file):\n",
    "    print(f\"Converting: {audio_file}\")\n",
    "    sound = AudioSegment.from_mp3(audio_file)\n",
    "    wav_file = audio_file.replace(\".mp3\", \".wav\")\n",
    "    sound.export(wav_file, format=\"wav\")\n",
    "    return wav_file"
   ]
  },
  {
   "cell_type": "code",
   "execution_count": 5,
   "id": "104a2ec0",
   "metadata": {},
   "outputs": [],
   "source": [
    "def extract_text(audio_file):\n",
    "    recognizer = sr.Recognizer()\n",
    "    print(f\"Extracting: {audio_file}\")\n",
    "    with sr.AudioFile(audio_file) as source:\n",
    "        audio_data = recognizer.record(source)\n",
    "        try:\n",
    "            text = recognizer.recognize_google(audio_data)\n",
    "            return text\n",
    "        except sr.UnknownValueError:\n",
    "            return \"Could not understand the audio\"\n",
    "        except sr.RequestError as e:\n",
    "            return f\"Error occurred: {e}\""
   ]
  },
  {
   "cell_type": "code",
   "execution_count": 6,
   "id": "3e97f155",
   "metadata": {},
   "outputs": [],
   "source": [
    "video_csv = \"VideoSubtitles\"\n",
    "data = []"
   ]
  },
  {
   "cell_type": "code",
   "execution_count": null,
   "id": "e6a34211",
   "metadata": {},
   "outputs": [
    {
     "name": "stdout",
     "output_type": "stream",
     "text": [
      "Processing: D:\\Tensorflow\\NPTEL Audios\\2-D Array Operation.mp3\n",
      "Converting: D:\\Tensorflow\\NPTEL Audios\\2-D Array Operation.mp3\n",
      "Extracting: D:\\Tensorflow\\NPTEL Audios\\2-D Array Operation.wav\n",
      "Processing: D:\\Tensorflow\\NPTEL Audios\\abstract datatypes, classes and objects.mp3\n",
      "Converting: D:\\Tensorflow\\NPTEL Audios\\abstract datatypes, classes and objects.mp3\n",
      "Extracting: D:\\Tensorflow\\NPTEL Audios\\abstract datatypes, classes and objects.wav\n"
     ]
    }
   ],
   "source": [
    "for filename in os.listdir(audios_folder):\n",
    "    if filename.endswith(\".mp3\"):  \n",
    "        audio_file_path = os.path.abspath(os.path.join(audios_folder, filename))\n",
    "        print(f\"Processing: {audio_file_path}\")\n",
    "        if os.path.exists(audio_file_path):\n",
    "            wav_file_path = mp3_to_wav(audio_file_path)\n",
    "            extracted_text = extract_text(wav_file_path)\n",
    "            data.append({\"Video file name\": filename, \"Extracted text\": extracted_text})\n",
    "        else:\n",
    "            print(f\"File not found: {audio_file_path}\")"
   ]
  },
  {
   "cell_type": "code",
   "execution_count": 9,
   "id": "8773efdb",
   "metadata": {},
   "outputs": [
    {
     "data": {
      "text/plain": [
       "[]"
      ]
     },
     "execution_count": 9,
     "metadata": {},
     "output_type": "execute_result"
    }
   ],
   "source": [
    "data"
   ]
  },
  {
   "cell_type": "code",
   "execution_count": 41,
   "id": "069c28f0",
   "metadata": {},
   "outputs": [
    {
     "name": "stdout",
     "output_type": "stream",
     "text": [
      "Extraction completed. Data saved in: D:\\VideoSubtitles.csv\n"
     ]
    }
   ],
   "source": [
    "output_csv=\"D:\\\\VideoSubtitles.csv\"\n",
    "with open(output_csv, mode='a', newline='', encoding='utf-8') as csvfile:\n",
    "    fieldnames = [\"Audio file name\", \"Extracted text\"]\n",
    "    writer = csv.DictWriter(csvfile, fieldnames=fieldnames)\n",
    "\n",
    "    writer.writeheader()\n",
    "    for entry in data:\n",
    "        writer.writerow(entry)\n",
    "\n",
    "print(f\"Extraction completed. Data saved in: {output_csv}\")"
   ]
  },
  {
   "cell_type": "code",
   "execution_count": null,
   "id": "f5a4f8e7",
   "metadata": {},
   "outputs": [],
   "source": []
  }
 ],
 "metadata": {
  "kernelspec": {
   "display_name": "Python 3 (ipykernel)",
   "language": "python",
   "name": "python3"
  },
  "language_info": {
   "codemirror_mode": {
    "name": "ipython",
    "version": 3
   },
   "file_extension": ".py",
   "mimetype": "text/x-python",
   "name": "python",
   "nbconvert_exporter": "python",
   "pygments_lexer": "ipython3",
   "version": "3.10.5"
  }
 },
 "nbformat": 4,
 "nbformat_minor": 5
}
