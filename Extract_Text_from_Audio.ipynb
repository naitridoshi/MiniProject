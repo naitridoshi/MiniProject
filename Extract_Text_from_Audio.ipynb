{
 "cells": [
  {
   "cell_type": "code",
   "execution_count": 1,
   "metadata": {
    "colab": {
     "base_uri": "https://localhost:8080/"
    },
    "id": "oO1aXeS41Ap5",
    "outputId": "aaebec07-481c-48a8-ca9a-d450ae15c732"
   },
   "outputs": [
    {
     "name": "stdout",
     "output_type": "stream",
     "text": [
      "Drive already mounted at /content/drive; to attempt to forcibly remount, call drive.mount(\"/content/drive\", force_remount=True).\n"
     ]
    }
   ],
   "source": [
    "from google.colab import drive\n",
    "drive.mount('/content/drive')"
   ]
  },
  {
   "cell_type": "code",
   "execution_count": 3,
   "metadata": {
    "colab": {
     "base_uri": "https://localhost:8080/"
    },
    "id": "0nFdFM8f1lL4",
    "outputId": "04d4c30c-6073-43ae-a31e-df789aec23fa"
   },
   "outputs": [
    {
     "name": "stdout",
     "output_type": "stream",
     "text": [
      "Collecting SpeechRecognition\n",
      "  Downloading SpeechRecognition-3.10.1-py2.py3-none-any.whl (32.8 MB)\n",
      "\u001b[2K     \u001b[90m━━━━━━━━━━━━━━━━━━━━━━━━━━━━━━━━━━━━━━━━\u001b[0m \u001b[32m32.8/32.8 MB\u001b[0m \u001b[31m28.9 MB/s\u001b[0m eta \u001b[36m0:00:00\u001b[0m\n",
      "\u001b[?25hCollecting pydub\n",
      "  Downloading pydub-0.25.1-py2.py3-none-any.whl (32 kB)\n",
      "Requirement already satisfied: requests>=2.26.0 in /usr/local/lib/python3.10/dist-packages (from SpeechRecognition) (2.31.0)\n",
      "Requirement already satisfied: typing-extensions in /usr/local/lib/python3.10/dist-packages (from SpeechRecognition) (4.5.0)\n",
      "Requirement already satisfied: charset-normalizer<4,>=2 in /usr/local/lib/python3.10/dist-packages (from requests>=2.26.0->SpeechRecognition) (3.3.2)\n",
      "Requirement already satisfied: idna<4,>=2.5 in /usr/local/lib/python3.10/dist-packages (from requests>=2.26.0->SpeechRecognition) (3.6)\n",
      "Requirement already satisfied: urllib3<3,>=1.21.1 in /usr/local/lib/python3.10/dist-packages (from requests>=2.26.0->SpeechRecognition) (2.0.7)\n",
      "Requirement already satisfied: certifi>=2017.4.17 in /usr/local/lib/python3.10/dist-packages (from requests>=2.26.0->SpeechRecognition) (2023.11.17)\n",
      "Installing collected packages: pydub, SpeechRecognition\n",
      "Successfully installed SpeechRecognition-3.10.1 pydub-0.25.1\n"
     ]
    }
   ],
   "source": [
    "!pip install SpeechRecognition pydub"
   ]
  },
  {
   "cell_type": "code",
   "execution_count": 13,
   "metadata": {
    "id": "0qeL9dar1HXY"
   },
   "outputs": [],
   "source": [
    "import numpy as np\n",
    "import pandas as pd\n",
    "import tensorflow as tf\n",
    "import os\n",
    "from moviepy.editor import VideoFileClip\n",
    "import speech_recognition as sr\n",
    "from pydub import AudioSegment\n",
    "import csv\n",
    "from pydub.utils import make_chunks\n",
    "from pydub.silence import split_on_silence"
   ]
  },
  {
   "cell_type": "code",
   "execution_count": 3,
   "metadata": {
    "id": "Hrd92dZf1iEX"
   },
   "outputs": [],
   "source": [
    "audios_folder=\"/content/drive/MyDrive/NPTEL Audios\""
   ]
  },
  {
   "cell_type": "code",
   "execution_count": 10,
   "metadata": {
    "id": "5yUl7OKC12AS"
   },
   "outputs": [],
   "source": [
    "def mp3_to_wav(audio_file):\n",
    "    print(f\"Converting: {audio_file}\")\n",
    "    sound = AudioSegment.from_mp3(audio_file)\n",
    "    wav_file = audio_file.replace(\".mp3\", \".wav\")\n",
    "    sound.export(wav_file, format=\"wav\")\n",
    "    return wav_file"
   ]
  },
  {
   "cell_type": "code",
   "execution_count": 14,
   "metadata": {
    "id": "4z7Zr6Cb13qh"
   },
   "outputs": [],
   "source": [
    "def extract_text(audio_file):\n",
    "    recognizer = sr.Recognizer()\n",
    "    print(f\"Extracting: {audio_file}\")\n",
    "    chunks = split_on_silence(audio_file,\n",
    "      # must be silent for at least 0.5 seconds\n",
    "      # or 500 ms. adjust this value based on user\n",
    "      # requirement. if the speaker stays silent for\n",
    "      # longer, increase this value. else, decrease it.\n",
    "      min_silence_len = 500,\n",
    "\n",
    "      # consider it silent if quieter than -16 dBFS\n",
    "      # adjust this per requirement\n",
    "      silence_thresh = -16\n",
    "    )\n",
    "    try:\n",
    "        os.mkdir('audio_chunks')\n",
    "    except(FileExistsError):\n",
    "        pass\n",
    "    # move into the directory to\n",
    "    # store the audio files.\n",
    "    os.chdir('audio_chunks')\n",
    "    i = 0\n",
    "    # process each chunk\n",
    "    for chunk in chunks:\n",
    "\n",
    "        # Create 0.5 seconds silence chunk\n",
    "        chunk_silent = AudioSegment.silent(duration = 10)\n",
    "\n",
    "        # add 0.5 sec silence to beginning and\n",
    "        # end of audio chunk. This is done so that\n",
    "        # it doesn't seem abruptly sliced.\n",
    "        audio_chunk = chunk_silent + chunk + chunk_silent\n",
    "\n",
    "        # export audio chunk and save it in\n",
    "        # the current directory.\n",
    "        print(\"saving chunk{0}.wav\".format(i))\n",
    "        # specify the bitrate to be 192 k\n",
    "        audio_chunk.export(\"./chunk{0}.wav\".format(i), bitrate ='192k', format =\"wav\")\n",
    "\n",
    "        # the name of the newly created chunk\n",
    "        filename = 'chunk'+str(i)+'.wav'\n",
    "\n",
    "        print(\"Processing chunk \"+str(i))\n",
    "\n",
    "        # get the name of the newly created chunk\n",
    "        # in the AUDIO_FILE variable for later use.\n",
    "        file = filename\n",
    "    with sr.AudioFile(file) as source:\n",
    "        audio_data = recognizer.record(source)\n",
    "        try:\n",
    "            text = recognizer.recognize_google(audio_data)\n",
    "            return text\n",
    "        except sr.UnknownValueError:\n",
    "            return \"Could not understand the audio\"\n",
    "        except sr.RequestError as e:\n",
    "            return f\"Error occurred: {e}\""
   ]
  },
  {
   "cell_type": "code",
   "execution_count": 6,
   "metadata": {
    "id": "N8AJj3YG15He"
   },
   "outputs": [],
   "source": [
    "video_csv = \"/content/drive/MyDrive/VideoSubtitles.csv\"\n",
    "data = []"
   ]
  },
  {
   "cell_type": "code",
   "execution_count": 15,
   "metadata": {
    "colab": {
     "base_uri": "https://localhost:8080/",
     "height": 712
    },
    "id": "zf8p6OWr2G1b",
    "outputId": "50255966-e733-4497-d175-6cb93f3f14af"
   },
   "outputs": [
    {
     "name": "stdout",
     "output_type": "stream",
     "text": [
      "Processing: /content/drive/MyDrive/NPTEL Audios/priority queues and heaps.mp3\n",
      "Converting: /content/drive/MyDrive/NPTEL Audios/priority queues and heaps.mp3\n",
      "Extracting: /content/drive/MyDrive/NPTEL Audios/priority queues and heaps.wav\n"
     ]
    },
    {
     "ename": "ValueError",
     "evalue": "could not convert string to float: '/content/drive/MyDrive/NPTEL Audios/priority queues and heaps.wav'",
     "output_type": "error",
     "traceback": [
      "\u001b[0;31m---------------------------------------------------------------------------\u001b[0m",
      "\u001b[0;31mValueError\u001b[0m                                Traceback (most recent call last)",
      "\u001b[0;32m<ipython-input-15-102106a9ed8e>\u001b[0m in \u001b[0;36m<cell line: 1>\u001b[0;34m()\u001b[0m\n\u001b[1;32m      5\u001b[0m         \u001b[0;32mif\u001b[0m \u001b[0mos\u001b[0m\u001b[0;34m.\u001b[0m\u001b[0mpath\u001b[0m\u001b[0;34m.\u001b[0m\u001b[0mexists\u001b[0m\u001b[0;34m(\u001b[0m\u001b[0maudio_file_path\u001b[0m\u001b[0;34m)\u001b[0m\u001b[0;34m:\u001b[0m\u001b[0;34m\u001b[0m\u001b[0;34m\u001b[0m\u001b[0m\n\u001b[1;32m      6\u001b[0m             \u001b[0mwav_file_path\u001b[0m \u001b[0;34m=\u001b[0m \u001b[0mmp3_to_wav\u001b[0m\u001b[0;34m(\u001b[0m\u001b[0maudio_file_path\u001b[0m\u001b[0;34m)\u001b[0m\u001b[0;34m\u001b[0m\u001b[0;34m\u001b[0m\u001b[0m\n\u001b[0;32m----> 7\u001b[0;31m             \u001b[0mextracted_text\u001b[0m \u001b[0;34m=\u001b[0m \u001b[0mextract_text\u001b[0m\u001b[0;34m(\u001b[0m\u001b[0mwav_file_path\u001b[0m\u001b[0;34m)\u001b[0m\u001b[0;34m\u001b[0m\u001b[0;34m\u001b[0m\u001b[0m\n\u001b[0m\u001b[1;32m      8\u001b[0m             \u001b[0mdata\u001b[0m\u001b[0;34m.\u001b[0m\u001b[0mappend\u001b[0m\u001b[0;34m(\u001b[0m\u001b[0;34m{\u001b[0m\u001b[0;34m\"Video file name\"\u001b[0m\u001b[0;34m:\u001b[0m \u001b[0mfilename\u001b[0m\u001b[0;34m,\u001b[0m \u001b[0;34m\"Extracted text\"\u001b[0m\u001b[0;34m:\u001b[0m \u001b[0mextracted_text\u001b[0m\u001b[0;34m}\u001b[0m\u001b[0;34m)\u001b[0m\u001b[0;34m\u001b[0m\u001b[0;34m\u001b[0m\u001b[0m\n\u001b[1;32m      9\u001b[0m             \u001b[0mos\u001b[0m\u001b[0;34m.\u001b[0m\u001b[0mremove\u001b[0m\u001b[0;34m(\u001b[0m\u001b[0mwav_file_path\u001b[0m\u001b[0;34m)\u001b[0m\u001b[0;34m\u001b[0m\u001b[0;34m\u001b[0m\u001b[0m\n",
      "\u001b[0;32m<ipython-input-14-35a0c6b5a97e>\u001b[0m in \u001b[0;36mextract_text\u001b[0;34m(audio_file)\u001b[0m\n\u001b[1;32m     30\u001b[0m         \u001b[0;31m# end of audio chunk. This is done so that\u001b[0m\u001b[0;34m\u001b[0m\u001b[0;34m\u001b[0m\u001b[0m\n\u001b[1;32m     31\u001b[0m         \u001b[0;31m# it doesn't seem abruptly sliced.\u001b[0m\u001b[0;34m\u001b[0m\u001b[0;34m\u001b[0m\u001b[0m\n\u001b[0;32m---> 32\u001b[0;31m         \u001b[0maudio_chunk\u001b[0m \u001b[0;34m=\u001b[0m \u001b[0mchunk_silent\u001b[0m \u001b[0;34m+\u001b[0m \u001b[0mchunk\u001b[0m \u001b[0;34m+\u001b[0m \u001b[0mchunk_silent\u001b[0m\u001b[0;34m\u001b[0m\u001b[0;34m\u001b[0m\u001b[0m\n\u001b[0m\u001b[1;32m     33\u001b[0m \u001b[0;34m\u001b[0m\u001b[0m\n\u001b[1;32m     34\u001b[0m         \u001b[0;31m# export audio chunk and save it in\u001b[0m\u001b[0;34m\u001b[0m\u001b[0;34m\u001b[0m\u001b[0m\n",
      "\u001b[0;32m/usr/local/lib/python3.10/dist-packages/pydub/audio_segment.py\u001b[0m in \u001b[0;36m__add__\u001b[0;34m(self, arg)\u001b[0m\n\u001b[1;32m    364\u001b[0m             \u001b[0;32mreturn\u001b[0m \u001b[0mself\u001b[0m\u001b[0;34m.\u001b[0m\u001b[0mappend\u001b[0m\u001b[0;34m(\u001b[0m\u001b[0marg\u001b[0m\u001b[0;34m,\u001b[0m \u001b[0mcrossfade\u001b[0m\u001b[0;34m=\u001b[0m\u001b[0;36m0\u001b[0m\u001b[0;34m)\u001b[0m\u001b[0;34m\u001b[0m\u001b[0;34m\u001b[0m\u001b[0m\n\u001b[1;32m    365\u001b[0m         \u001b[0;32melse\u001b[0m\u001b[0;34m:\u001b[0m\u001b[0;34m\u001b[0m\u001b[0;34m\u001b[0m\u001b[0m\n\u001b[0;32m--> 366\u001b[0;31m             \u001b[0;32mreturn\u001b[0m \u001b[0mself\u001b[0m\u001b[0;34m.\u001b[0m\u001b[0mapply_gain\u001b[0m\u001b[0;34m(\u001b[0m\u001b[0marg\u001b[0m\u001b[0;34m)\u001b[0m\u001b[0;34m\u001b[0m\u001b[0;34m\u001b[0m\u001b[0m\n\u001b[0m\u001b[1;32m    367\u001b[0m \u001b[0;34m\u001b[0m\u001b[0m\n\u001b[1;32m    368\u001b[0m     \u001b[0;32mdef\u001b[0m \u001b[0m__radd__\u001b[0m\u001b[0;34m(\u001b[0m\u001b[0mself\u001b[0m\u001b[0;34m,\u001b[0m \u001b[0mrarg\u001b[0m\u001b[0;34m)\u001b[0m\u001b[0;34m:\u001b[0m\u001b[0;34m\u001b[0m\u001b[0;34m\u001b[0m\u001b[0m\n",
      "\u001b[0;32m/usr/local/lib/python3.10/dist-packages/pydub/audio_segment.py\u001b[0m in \u001b[0;36mapply_gain\u001b[0;34m(self, volume_change)\u001b[0m\n\u001b[1;32m   1170\u001b[0m     \u001b[0;32mdef\u001b[0m \u001b[0mapply_gain\u001b[0m\u001b[0;34m(\u001b[0m\u001b[0mself\u001b[0m\u001b[0;34m,\u001b[0m \u001b[0mvolume_change\u001b[0m\u001b[0;34m)\u001b[0m\u001b[0;34m:\u001b[0m\u001b[0;34m\u001b[0m\u001b[0;34m\u001b[0m\u001b[0m\n\u001b[1;32m   1171\u001b[0m         return self._spawn(data=audioop.mul(self._data, self.sample_width,\n\u001b[0;32m-> 1172\u001b[0;31m                                             db_to_float(float(volume_change))))\n\u001b[0m\u001b[1;32m   1173\u001b[0m \u001b[0;34m\u001b[0m\u001b[0m\n\u001b[1;32m   1174\u001b[0m     \u001b[0;32mdef\u001b[0m \u001b[0moverlay\u001b[0m\u001b[0;34m(\u001b[0m\u001b[0mself\u001b[0m\u001b[0;34m,\u001b[0m \u001b[0mseg\u001b[0m\u001b[0;34m,\u001b[0m \u001b[0mposition\u001b[0m\u001b[0;34m=\u001b[0m\u001b[0;36m0\u001b[0m\u001b[0;34m,\u001b[0m \u001b[0mloop\u001b[0m\u001b[0;34m=\u001b[0m\u001b[0;32mFalse\u001b[0m\u001b[0;34m,\u001b[0m \u001b[0mtimes\u001b[0m\u001b[0;34m=\u001b[0m\u001b[0;32mNone\u001b[0m\u001b[0;34m,\u001b[0m \u001b[0mgain_during_overlay\u001b[0m\u001b[0;34m=\u001b[0m\u001b[0;32mNone\u001b[0m\u001b[0;34m)\u001b[0m\u001b[0;34m:\u001b[0m\u001b[0;34m\u001b[0m\u001b[0;34m\u001b[0m\u001b[0m\n",
      "\u001b[0;31mValueError\u001b[0m: could not convert string to float: '/content/drive/MyDrive/NPTEL Audios/priority queues and heaps.wav'"
     ]
    }
   ],
   "source": [
    "\n",
    "for filename in os.listdir(audios_folder):\n",
    "    if filename.endswith(\".mp3\"):\n",
    "        audio_file_path = os.path.abspath(os.path.join(audios_folder, filename))\n",
    "        print(f\"Processing: {audio_file_path}\")\n",
    "        if os.path.exists(audio_file_path):\n",
    "            wav_file_path = mp3_to_wav(audio_file_path)\n",
    "            extracted_text = extract_text(wav_file_path)\n",
    "            data.append({\"Video file name\": filename, \"Extracted text\": extracted_text})\n",
    "            os.remove(wav_file_path)\n",
    "            i=i+1\n",
    "        else:\n",
    "            print(f\"File not found: {audio_file_path}\")"
   ]
  },
  {
   "cell_type": "code",
   "execution_count": 8,
   "metadata": {
    "colab": {
     "base_uri": "https://localhost:8080/"
    },
    "id": "-qiEUKLN2Ime",
    "outputId": "74c8e9cf-356a-4624-f0dd-d4808aa7af37"
   },
   "outputs": [
    {
     "data": {
      "text/plain": [
       "[{'Video file name': 'priority queues and heaps.mp3',\n",
       "  'Extracted text': 'Error occurred: recognition connection failed: [Errno 32] Broken pipe'},\n",
       " {'Video file name': 'Prof  A  Basu.mp3',\n",
       "  'Extracted text': 'welcome to the course of problem solving through programming the name of the course emphasizes problem-solving and the means of solving problems will be through programming and in particular in this course we will adopt the language C just as a vehicle to show how programming is done the major emphasis of this course will however be on the general concepts of programming the different constructs that are used in programming and how the tool the programming tool and technique can we use to solve different types of problems that we encountered in our life now if we say when we say that we will be trying to solve problems that question that naturally arrives is what type of problems are we going to solve we are not going to solve all sorts of problems that are there in the world of course we are through this course we do not even dare to say that will be solving the problem of hunger in the world for example instead will be focusing on solving some mathematical problems for solving some problems which can be approached through logical ways and means and some problems which you can solve by properly representing data and then working on that sort of working on that organized form of data so those are the types of problems which will be trying to solve another same time the emphasis is to introduce you all to the logic and flow of programming what is programming how we can program a computer how we can write a nice program and what are the different constructs and techniques by which we can program although will be focusing on the sea language because in order to explain some Concepts in reality we need to adopt some particular language for expression the concepts that will be discussing in this course are General enough and are applicable to a vast repertoire of other languages as well as other languages means a particular class of languages which are known as imperative languages like if anybody programs in Fortran if any programs in plus plus later some of the concepts that will be dealing with in this course will be applicable there as well so I very much hope that for the beginners it will be a nice starter with which you can delve into the area of problem solving through programming'},\n",
       " {'Video file name': 'Program using Arrays.mp3',\n",
       "  'Extracted text': 'Error occurred: recognition connection failed: [Errno 32] Broken pipe'},\n",
       " {'Video file name': 'python intro.mp3',\n",
       "  'Extracted text': \"welcome to the np10 course on programming data structures and algorithms in Python computational thinking has become one of the buzzwords that we read about these days computational thinking is supposed to be the way that we can cope with the technology that we see around us however computational thinking is not something exactly new to us a lot of them mathematics that we learn in school is computational for instance when we use the long division method to find a square root of calculations we are executing algorithms even in day-to-day life when we arrange books alphabetically so that we can search for them easier this is an example of setting up a data structure or when we try to optimize the route from where we are to where we want to go so what we need to worry about now is how to make this implicit idea of computational thinking more explicit how do we describe new algorithms how do we convey an algorithm to another person or increasingly how do we convey an algorithm to Mechanical device such as a computer for this we need a precise notation for conveying instructions and this is what we call a programming language so the key to getting into programming is to the appropriate language traditional languages like C or C plus plus or Java are very powerful but also have a heavy overhead to learning so a lot of time is spent learning the keywords in the language and lot less is spent on learning how to program in the language in this course we are going to use a new language called python which is much simpler to learn and hopefully without having to get into too many technical details before one starts programming we can overcome the fear of programming and start writing real programs from early stage so what is programming all about well it's essentially boils down to two things one is algorithms these are techniques to do things faster and more effectively the other thing is data structures so how do you organize information to make it easier to process in fact a long time ago a very famous computer scientist called who designed the programming language Pascal wrote a book called algorithms Plus data structures equals programs which emphasizes the fact that the programming is nothing more than a combination of these two concepts so in this course we will learn python but side by side we will also learn basic algorithms and data structures they will be eight weeks of lectures about two hours of lectures per week and they will be regular weekly quizzes and programming assignments to ensure that you keep up with the class and gain confidence as we go along so I hope you will join the course and I hope that you will overcome any fear of programming you have and become part of the new generation\"},\n",
       " {'Video file name': 'quicksort analysis.mp3',\n",
       "  'Extracted text': 'Error occurred: recognition connection failed: [Errno 32] Broken pipe'}]"
      ]
     },
     "execution_count": 8,
     "metadata": {},
     "output_type": "execute_result"
    }
   ],
   "source": [
    "data"
   ]
  },
  {
   "cell_type": "code",
   "execution_count": null,
   "metadata": {
    "id": "KojbXf8TB1Jd"
   },
   "outputs": [],
   "source": [
    "output_csv=\"/content/drive/MyDrive/VideoSubtitles.csv\"\n",
    "with open(output_csv, mode='a', newline='', encoding='utf-8') as csvfile:\n",
    "    fieldnames = [\"Audio file name\", \"Extracted text\"]\n",
    "    writer = csv.DictWriter(csvfile, fieldnames=fieldnames)\n",
    "\n",
    "    writer.writeheader()\n",
    "    for entry in data:\n",
    "        writer.writerow(entry)\n",
    "\n",
    "print(f\"Extraction completed. Data saved in: {output_csv}\")"
   ]
  }
 ],
 "metadata": {
  "colab": {
   "provenance": []
  },
  "kernelspec": {
   "display_name": "Python 3 (ipykernel)",
   "language": "python",
   "name": "python3"
  },
  "language_info": {
   "codemirror_mode": {
    "name": "ipython",
    "version": 3
   },
   "file_extension": ".py",
   "mimetype": "text/x-python",
   "name": "python",
   "nbconvert_exporter": "python",
   "pygments_lexer": "ipython3",
   "version": "3.10.5"
  }
 },
 "nbformat": 4,
 "nbformat_minor": 1
}
